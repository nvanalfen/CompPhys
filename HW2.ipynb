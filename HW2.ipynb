{
 "cells": [
  {
   "cell_type": "code",
   "execution_count": 1,
   "metadata": {},
   "outputs": [],
   "source": [
    "%matplotlib inline\n",
    "import numpy as np\n",
    "from matplotlib import pyplot\n",
    "from matplotlib.colors import ColorConverter as cc\n",
    "import math"
   ]
  },
  {
   "cell_type": "markdown",
   "metadata": {},
   "source": [
    "<h1>Challenge 1.3</h1>\n",
    "<h4>Note: I have used the code without the drag coefficient as the homework said only to use a position dependent gravity without drag</h4>"
   ]
  },
  {
   "cell_type": "code",
   "execution_count": 2,
   "metadata": {},
   "outputs": [],
   "source": [
    "class particle(object):\n",
    "    \n",
    "    def __init__(self, mass=1., y=0., v=0.):\n",
    "        self.mass = mass\n",
    "        self.y = y\n",
    "        self.v = v\n",
    "        \n",
    "    def euler(self, f, dt):\n",
    "        self.y = self.y + self.v*dt\n",
    "        self.v = self.v + f/self.mass*dt\n",
    "        \n",
    "    def euler_cromer(self, f, dt):\n",
    "        self.v = self.v + f/self.mass*dt\n",
    "        self.y = self.y + self.v*dt\n"
   ]
  },
  {
   "cell_type": "code",
   "execution_count": 3,
   "metadata": {},
   "outputs": [],
   "source": [
    "def exercise_1_3(y0, v0, vt, dt):\n",
    "    g = 9.8            # g acceleration\n",
    "    mass = 0.01        # mass of the particle\n",
    "    #y0 = 300.          # initial position\n",
    "    #v0 = 0.            # initial velocity\n",
    "    #vt = 30.           # terminal velocity\n",
    "\n",
    "    #dt = 0.5           # time step\n",
    "    \n",
    "    R = 6.37e6\n",
    "    gforce = g*mass    # weight\n",
    "\n",
    "    p = particle(mass, y0, v0)\n",
    "    m = p.mass\n",
    "\n",
    "    y = [y0] # since we do not know the size of the arrays, we define first a python list\n",
    "    v = [v0] # the append method is more efficient for lists than arrays\n",
    "    t = [0.]\n",
    "\n",
    "    while p.y > 0.:\n",
    "        fy = -( g*m )/( 1 + (y[-1]/R) )**2\n",
    "        p.euler(fy, dt)\n",
    "        y.append(p.y)\n",
    "        v.append(p.v)\n",
    "        t.append(t[-1]+dt)\n",
    "\n",
    "    t_data = np.array(t) # we convert the list into a numpy array for plotting\n",
    "    y_data = np.array(y)\n",
    "    v_data = np.array(v)\n",
    "    return t_data, y_data, v_data\n",
    "\n",
    "    #for i in range(0,t_data.size):\n",
    "    #    print i,t_data[i], y_data[i], v_data[i]"
   ]
  },
  {
   "cell_type": "code",
   "execution_count": 4,
   "metadata": {},
   "outputs": [],
   "source": [
    "def compare(y0, v0, vt, dt):\n",
    "    analytical_vf = -np.sqrt( v0**2 + 2*9.8*y0 )\n",
    "    t, y, v = exercise_1_3(y0, v0, vt, dt)\n",
    "    vf = v[-1]\n",
    "    percent_diff = abs ( (analytical_vf - vf)/analytical_vf )*100\n",
    "    return percent_diff"
   ]
  },
  {
   "cell_type": "code",
   "execution_count": 5,
   "metadata": {},
   "outputs": [
    {
     "name": "stdout",
     "output_type": "stream",
     "text": [
      "0.06261987145503226\n",
      "29.288593900491772\n",
      "At y0 =  129941.4876461029 Results are off by  1.0\n"
     ]
    }
   ],
   "source": [
    "y0 = 300.          # initial position\n",
    "v0 = 0.            # initial velocity\n",
    "vt = 30.           # terminal velocity\n",
    "dt = 0.01          # time step, decreased from the example given\n",
    "\n",
    "tol = 1e-4         # When searching for a value within 1%, just look for equivalence within this tolerance\n",
    "\n",
    "# Search for the \n",
    "\n",
    "percent_diff = compare(y0, v0, vt, dt)\n",
    "print(percent_diff)\n",
    "\n",
    "# percent_diff is much lower than 1%, find something drastically higher\n",
    "y0 = 6.37e6       # Using R as the first value\n",
    "percent_diff = compare(y0, v0, vt, dt)\n",
    "print(percent_diff)\n",
    "\n",
    "# 1% difference lies somewhere between these two values\n",
    "upper_y0 = 6.37e6\n",
    "lower_y0 = 300\n",
    "check = True\n",
    "res = ()\n",
    "while check:\n",
    "    y_check = (upper_y0 + lower_y0)/2\n",
    "    percent_diff = compare(y_check, v0, vt, dt)\n",
    "    \n",
    "    if percent_diff > 1:\n",
    "        upper_y0 = y_check\n",
    "    elif percent_diff < 1:\n",
    "        lower_y0 = y_check\n",
    "    \n",
    "    check = not abs(1 - percent_diff) < tol\n",
    "    if not check:\n",
    "        res = (y_check, percent_diff)\n",
    "\n",
    "print(\"At y0 = \", res[0], \"Results are off by \", round(res[1], 5))"
   ]
  },
  {
   "cell_type": "markdown",
   "metadata": {},
   "source": [
    "At about y0 = 1.299e5 m, the results differ by 1%. Any higher, and the difference is greater. Constant acceleration is a really good approximation"
   ]
  },
  {
   "cell_type": "markdown",
   "metadata": {},
   "source": [
    "<h1>Challenge 1.4</h1>"
   ]
  },
  {
   "cell_type": "code",
   "execution_count": 6,
   "metadata": {},
   "outputs": [],
   "source": [
    "class particle2(object):\n",
    "    \n",
    "    def __init__(self, mass=1., x=0., y=0., vx=0., vy=0.):\n",
    "        self.mass = mass\n",
    "        self.x = x\n",
    "        self.y = y\n",
    "        self.vx = vx\n",
    "        self.vy = vy\n",
    "       \n",
    "    def euler(self, fx, fy, dt):\n",
    "        self.vx = self.vx + fx/self.mass*dt\n",
    "        self.vy = self.vy + fy/self.mass*dt\n",
    "        self.x = self.x + self.vx*dt\n",
    "        self.y = self.y + self.vy*dt"
   ]
  },
  {
   "cell_type": "code",
   "execution_count": 8,
   "metadata": {},
   "outputs": [
    {
     "data": {
      "text/plain": [
       "Text(0, 0.5, 'Max X (m)')"
      ]
     },
     "execution_count": 8,
     "metadata": {},
     "output_type": "execute_result"
    },
    {
     "data": {
      "image/png": "[encoded data removed]",
      "text/plain": [
       "<Figure size 432x288 with 1 Axes>"
      ]
     },
     "metadata": {
      "needs_background": "light"
     },
     "output_type": "display_data"
    }
   ],
   "source": [
    "g = 9.8            # g acceleration\n",
    "v0 = 30.           # initial velocity\n",
    "\n",
    "dt = 0.001           # time step\n",
    "\n",
    "colors = ['red','orange','yellow','green','magenta','cyan','blue','purple','black']\n",
    "\n",
    "highest_y = []\n",
    "highest_x = []\n",
    "angles = np.arange( 1, 9, 0.01 )\n",
    "\n",
    "for angle in angles:\n",
    "    x = [0]                                  # we need to initialize the arrays for each value of the angle\n",
    "    y = [0]\n",
    "    vx = [math.cos(angle*0.1*math.pi/2.)*v0] \n",
    "    vy = [math.sin(angle*0.1*math.pi/2.)*v0] \n",
    "    t = [0.]\n",
    "    \n",
    "    p = particle2(1., 0., 0., vx[0], vy[0])\n",
    "    m = p.mass\n",
    "    k = 0.1*m                             # k/m = 0.1 so k = 0.1*m\n",
    "    while p.y >= 0.:\n",
    "        curr_vx = p.vx\n",
    "        curr_vy = p.vy\n",
    "        curr_v = np.sqrt( curr_vx**2 + curr_vy**2 )\n",
    "        fx = -k*curr_v*curr_vx\n",
    "        fy = -m*g - k*curr_v*curr_vy\n",
    "        p.euler(fx, fy, dt)\n",
    "        x.append(p.x)\n",
    "        y.append(p.y)\n",
    "        vx.append(p.vx)\n",
    "        vy.append(p.vy)\n",
    "        t.append(t[-1]+dt)\n",
    "    \n",
    "    t_data = np.array(t) # we convert the list into a numpy array for plotting\n",
    "    x_data = np.array(x)\n",
    "    y_data = np.array(y)\n",
    "    vx_data = np.array(vx)\n",
    "    vy_data = np.array(vy)\n",
    "    highest_x.append(max(x))\n",
    "    highest_y.append(max(y))\n",
    "\n",
    "    #my_plot = pyplot.plot(x_data, y_data, color=(colors[angle]), ls='-', lw=3, label = str(angle*0.1))\n",
    "    #pyplot.legend()\n",
    "\n",
    "pyplot.plot(angles, highest_x)\n",
    "pyplot.xlabel(\"Angle\")\n",
    "pyplot.ylabel(\"Max X (m)\")\n",
    "#pyplot.xlabel('position x(m)')\n",
    "#pyplot.ylabel('position y(m)');"
   ]
  },
  {
   "cell_type": "code",
   "execution_count": 9,
   "metadata": {},
   "outputs": [
    {
     "name": "stdout",
     "output_type": "stream",
     "text": [
      "Maximum range of:  16.373520312554408\n",
      "At an angle of:  0.367 *(Pi/2) radians\n"
     ]
    }
   ],
   "source": [
    "ind = 0\n",
    "for i in range(len(highest_x)):\n",
    "    if highest_x[i] == max(highest_x):\n",
    "        ind = i\n",
    "        break\n",
    "\n",
    "print(\"Maximum range of: \", highest_x[ind])\n",
    "print(\"At an angle of: \", round(angles[ind]*0.1, 4), \"*(Pi/2) radians\")"
   ]
  },
  {
   "cell_type": "code",
   "execution_count": null,
   "metadata": {},
   "outputs": [],
   "source": []
  }
 ],
 "metadata": {
  "kernelspec": {
   "display_name": "Python 3",
   "language": "python",
   "name": "python3"
  },
  "language_info": {
   "codemirror_mode": {
    "name": "ipython",
    "version": 3
   },
   "file_extension": ".py",
   "mimetype": "text/x-python",
   "name": "python",
   "nbconvert_exporter": "python",
   "pygments_lexer": "ipython3",
   "version": "3.7.6"
  }
 },
 "nbformat": 4,
 "nbformat_minor": 4
}
