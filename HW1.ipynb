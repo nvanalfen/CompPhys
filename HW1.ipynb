{
 "cells": [
  {
   "cell_type": "code",
   "execution_count": 22,
   "metadata": {},
   "outputs": [],
   "source": [
    "%matplotlib inline\n",
    "import numpy as np\n",
    "import matplotlib.pyplot as plt\n",
    "from scipy.optimize import curve_fit"
   ]
  },
  {
   "cell_type": "code",
   "execution_count": 2,
   "metadata": {},
   "outputs": [],
   "source": [
    "T0 = 10.      # initial temperature\n",
    "Ts = 83.      # temp. of the environment\n",
    "r = 0.1       # cooling rate\n",
    "tmax = 10     # max time to run"
   ]
  },
  {
   "cell_type": "code",
   "execution_count": 3,
   "metadata": {},
   "outputs": [],
   "source": [
    "euler = lambda y, func, dx: y + f*dx "
   ]
  },
  {
   "cell_type": "code",
   "execution_count": 17,
   "metadata": {},
   "outputs": [],
   "source": [
    "dt = 2               # horrible dt, but so we have comparisons to high dt\n",
    "runs = 20            # number of trials to run\n",
    "delta_ts = []        # stores dt for each iteration\n",
    "final_temps = []     # stores final temperatures at time tmax\n",
    "\n",
    "for i in range(runs):\n",
    "    delta_ts.append( dt )\n",
    "    nsteps = int(tmax/dt)\n",
    "    times = np.linspace(dt,tmax,nsteps) \n",
    "    temps = np.zeros(nsteps)\n",
    "    T = T0\n",
    "    \n",
    "    for j in range(nsteps):\n",
    "        T = euler(T, -r*(T-Ts), dt)\n",
    "        temps[j] = T\n",
    "    \n",
    "    final_temps.append( temps[-1] )\n",
    "    dt /= 2"
   ]
  },
  {
   "cell_type": "code",
   "execution_count": 18,
   "metadata": {},
   "outputs": [
    {
     "data": {
      "text/plain": [
       "Text(0.5, 1.0, 'Temperature at 10 s')"
      ]
     },
     "execution_count": 18,
     "metadata": {},
     "output_type": "execute_result"
    },
    {
     "data": {
      "image/png": "[encoded data removed]",
      "text/plain": [
       "<Figure size 432x288 with 1 Axes>"
      ]
     },
     "metadata": {
      "needs_background": "light"
     },
     "output_type": "display_data"
    }
   ],
   "source": [
    "# let's look at the plot\n",
    "plt.plot( delta_ts, final_temps, \"b-o\" )\n",
    "plt.xlabel('dt (s)')\n",
    "plt.ylabel('temperature (C)')\n",
    "plt.title(\"Temperature at 10 s\")\n"
   ]
  },
  {
   "cell_type": "code",
   "execution_count": 6,
   "metadata": {},
   "outputs": [
    {
     "data": {
      "image/png": "[encoded data removed]",
      "text/plain": [
       "<Figure size 432x288 with 1 Axes>"
      ]
     },
     "metadata": {
      "needs_background": "light"
     },
     "output_type": "display_data"
    }
   ],
   "source": [
    "# let's look at that on a log-log scale to space out those points at low dt\n",
    "plt.plot( delta_ts, final_temps, \"b-o\" )\n",
    "plt.xlabel('dt (s)')\n",
    "plt.ylabel('temperature (C)')\n",
    "plt.title(\"Temperature at 10 s\")\n",
    "plt.yscale(\"log\")\n",
    "plt.xscale(\"log\")"
   ]
  },
  {
   "cell_type": "code",
   "execution_count": 20,
   "metadata": {},
   "outputs": [
    {
     "name": "stdout",
     "output_type": "stream",
     "text": [
      "2 \t:\t 59.07936\n",
      "1.0 \t:\t 57.5464738727\n",
      "0.5 \t:\t 56.830527664176415\n",
      "0.25 \t:\t 56.48403188818471\n",
      "0.125 \t:\t 56.31352548456047\n",
      "0.0625 \t:\t 56.22894252554225\n",
      "0.03125 \t:\t 56.18681676580647\n",
      "0.015625 \t:\t 56.16579508880537\n",
      "0.0078125 \t:\t 56.15529452282407\n",
      "0.00390625 \t:\t 56.15004680445006\n",
      "0.001953125 \t:\t 56.14742358597882\n",
      "0.0009765625 \t:\t 56.14611213686746\n",
      "0.00048828125 \t:\t 56.14545645233595\n",
      "0.000244140625 \t:\t 56.14512862007549\n",
      "0.0001220703125 \t:\t 56.14496470644685\n",
      "6.103515625e-05 \t:\t 56.14488275025737\n",
      "3.0517578125e-05 \t:\t 56.14484177232018\n",
      "1.52587890625e-05 \t:\t 56.14482128338813\n",
      "7.62939453125e-06 \t:\t 56.14481103893189\n",
      "3.814697265625e-06 \t:\t 56.14480591670849\n"
     ]
    }
   ],
   "source": [
    "# it seems to be asymptotically approaching a value for temperature at 10 s as dt -> 0, let's see if we can find it\n",
    "for i in range(len(delta_ts)):\n",
    "    print( delta_ts[i], \"\\t:\\t\", final_temps[i] )"
   ]
  },
  {
   "cell_type": "code",
   "execution_count": 29,
   "metadata": {},
   "outputs": [
    {
     "name": "stdout",
     "output_type": "stream",
     "text": [
      "a = 1.4129804111123527 b = 1.0512715094891798, c = 56.146762280647685\n"
     ]
    }
   ],
   "source": [
    "# Looks pretty linear, but there may be a slight curve. Let's be quantitative about it.\n",
    "# Assume fit of the form a*dx^b + c where a, b, and c are constants\n",
    "f = lambda dx, a, b, c : a*(dx**b)+c\n",
    "popt, pcov = curve_fit(f, delta_ts, final_temps)\n",
    "print(\"a = {} b = {}, c = {}\".format(popt[0], popt[1], popt[2]) )"
   ]
  },
  {
   "cell_type": "markdown",
   "metadata": {},
   "source": [
    "ANSWER QUESTIONS\n",
    "\n",
    "1) Does it converge as Delta t -> 0?<br>\n",
    "    - It appears to be nearing a value around 56.1448, although even between the last two points, there is a difference of magnitude 10^-5. Even setting runs to 25 (which takes much longer) could only match precision to the first 5 decimal places.\n",
    "2) If so, does it converge linearly? Quadratically?\n",
    "    - The trend looks almost linear. Looking at consecutive series of (temp1-temp2)/(dt1-dt2), se see that by the end, they do not change much, but once dt gets higher, the differences are more noticeable. Using scipy's curve_fit function, we see we can fit a function of the form a*dx^b + c to the data with a power of only 1.05 on the dx. This is very close to a linear convergence"
   ]
  },
  {
   "cell_type": "code",
   "execution_count": 8,
   "metadata": {},
   "outputs": [],
   "source": [
    "# using dt = 2/(2^14)\n",
    "# exact solution to this ODE is T(t) = (T0 - Ts + Ts*exp(r*t)) * exp(-r*t)\n",
    "dt = 2/2**14\n",
    "T_exact = lambda t : ( T0 - Ts + Ts*np.exp( r*t ) ) * np.exp(-r*t)"
   ]
  },
  {
   "cell_type": "code",
   "execution_count": 9,
   "metadata": {},
   "outputs": [],
   "source": [
    "nsteps = int(tmax/dt)\n",
    "times = np.linspace(dt,tmax,nsteps) \n",
    "num_temps = np.zeros(nsteps)            # numerical solutions to temperature, fill in in the loop later\n",
    "ex_temps = T_exact(times)               # exact solutions to temperature\n",
    "T = T0\n",
    "\n",
    "# fill in the numerical solutions\n",
    "for i in range(nsteps):\n",
    "    T = euler(T, -r*(T-Ts), dt)\n",
    "    num_temps[i] = T\n",
    "\n",
    "diffs = num_temps - ex_temps"
   ]
  },
  {
   "cell_type": "code",
   "execution_count": 12,
   "metadata": {},
   "outputs": [
    {
     "data": {
      "text/plain": [
       "Text(0, 0.5, 'numerical - exact result (degrees C)')"
      ]
     },
     "execution_count": 12,
     "metadata": {},
     "output_type": "execute_result"
    },
    {
     "data": {
      "image/png": "[encoded data removed]",
      "text/plain": [
       "<Figure size 432x288 with 1 Axes>"
      ]
     },
     "metadata": {
      "needs_background": "light"
     },
     "output_type": "display_data"
    }
   ],
   "source": [
    "plt.plot(times, diffs)\n",
    "plt.title(\"Difference over time\")\n",
    "plt.xlabel(\"time (s)\")\n",
    "plt.ylabel(\"numerical - exact result (degrees C)\")"
   ]
  },
  {
   "cell_type": "code",
   "execution_count": 11,
   "metadata": {},
   "outputs": [
    {
     "data": {
      "text/plain": [
       "array([0.00016391, 0.00016391, 0.00016391, 0.00016391, 0.00016391,\n",
       "       0.00016391, 0.00016391, 0.00016391, 0.00016391, 0.00016391])"
      ]
     },
     "execution_count": 11,
     "metadata": {},
     "output_type": "execute_result"
    }
   ],
   "source": [
    "diffs[-10:]"
   ]
  },
  {
   "cell_type": "markdown",
   "metadata": {},
   "source": [
    "As we can see, the error does grow with time, although it seems to flatten out at an error of around 1.64e-4 as seen in that at least the last 10 elements of the difference array are identical (to displayed precision). The asymptote makes sense as even if there are flaws in the numerical solution, the derivative lessens each time, meaning both the numerical and exact solutions should converge to some final (although not the same value)"
   ]
  }
 ],
 "metadata": {
  "kernelspec": {
   "display_name": "Python 3",
   "language": "python",
   "name": "python3"
  },
  "language_info": {
   "codemirror_mode": {
    "name": "ipython",
    "version": 3
   },
   "file_extension": ".py",
   "mimetype": "text/x-python",
   "name": "python",
   "nbconvert_exporter": "python",
   "pygments_lexer": "ipython3",
   "version": "3.7.6"
  }
 },
 "nbformat": 4,
 "nbformat_minor": 4
}
